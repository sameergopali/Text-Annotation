{
 "cells": [
  {
   "cell_type": "code",
   "execution_count": 4,
   "metadata": {},
   "outputs": [],
   "source": [
    "import pandas as pd"
   ]
  },
  {
   "cell_type": "code",
   "execution_count": 5,
   "metadata": {},
   "outputs": [],
   "source": [
    "xls =pd.read_excel('data.xlsx')"
   ]
  },
  {
   "cell_type": "code",
   "execution_count": 7,
   "metadata": {},
   "outputs": [
    {
     "name": "stdout",
     "output_type": "stream",
     "text": [
      "                                      PATIENT  \\\n",
      "0                                        CODE   \n",
      "1                                 Partnership   \n",
      "2                           Emotional Support   \n",
      "3                          Information-Giving   \n",
      "4   Info-giving Social Determinants of Health   \n",
      "5                         Information-Seeking   \n",
      "6  info-seeking Social Determinants of Health   \n",
      "7                      Shared Decision-Making   \n",
      "\n",
      "                                          Unnamed: 1  \\\n",
      "0                                         DEFINITION   \n",
      "1  establish/strengthen an alliance with the prov...   \n",
      "2  inications of unease, sadness, appreciation, g...   \n",
      "3  Providing information about oneself, either re...   \n",
      "4  Providing information related to economic stab...   \n",
      "5  Obtaining knowledge of a specific event or sit...   \n",
      "6  Requesting information related to economic sta...   \n",
      "7  1- explore (seek info about) options     2- ap...   \n",
      "\n",
      "                                          Unnamed: 2  \\\n",
      "0                                           EXAMPLES   \n",
      "1  1- Is there any chance I could be given a summ...   \n",
      "2  ...the wait is driving me nuts\\n\\nIs there any...   \n",
      "3  I have had a dull pain on left side of chest f...   \n",
      "4  The prescription was too expensive…\\n\\nI just ...   \n",
      "5  Can you place the script…\\n\\nDo you still want...   \n",
      "6                 Is there a program to assist with…   \n",
      "7  1- can you explain the possible options of tre...   \n",
      "\n",
      "                                     PROVIDER  \\\n",
      "0                                        CODE   \n",
      "1                                 Partnership   \n",
      "2                           Emotional Support   \n",
      "3                          Information-Giving   \n",
      "4   Info-giving Social Determinants of Health   \n",
      "5                         Information-Seeking   \n",
      "6  info-seeking Social Determinants of Health   \n",
      "7                      Shared Decision-Making   \n",
      "\n",
      "                                          Unnamed: 4  \\\n",
      "0                                         DEFINITION   \n",
      "1  facilitating patient participation by equalizi...   \n",
      "2  Statements of reassurance, support, empathy, a...   \n",
      "3  Statements related to the medical condition, s...   \n",
      "4  Providing information related to economic stab...   \n",
      "5  Attempts to obtain knowledge about medical/fam...   \n",
      "6  Exploring/probing information related to econo...   \n",
      "7  Statements or questions that express an opport...   \n",
      "\n",
      "                                          Unnamed: 5  \n",
      "0                                           EXAMPLES  \n",
      "1  1-  “Let’s work together to find the best solu...  \n",
      "2  Hope you're feeing better…\\n\\nI understand you...  \n",
      "3  I will put in a prescription…\\n\\nOrder for blo...  \n",
      "4                     Discount prescription program…  \n",
      "5  Were you able to get these done…\\n\\nCan you le...  \n",
      "6                                Do you feel unsafe…  \n",
      "7   \"1- Can we possibly worry about the/Let’s go ...  \n"
     ]
    }
   ],
   "source": [
    "print(xls)"
   ]
  },
  {
   "cell_type": "code",
   "execution_count": null,
   "metadata": {},
   "outputs": [],
   "source": []
  }
 ],
 "metadata": {
  "kernelspec": {
   "display_name": "venv",
   "language": "python",
   "name": "python3"
  },
  "language_info": {
   "codemirror_mode": {
    "name": "ipython",
    "version": 3
   },
   "file_extension": ".py",
   "mimetype": "text/x-python",
   "name": "python",
   "nbconvert_exporter": "python",
   "pygments_lexer": "ipython3",
   "version": "3.9.6"
  }
 },
 "nbformat": 4,
 "nbformat_minor": 2
}
